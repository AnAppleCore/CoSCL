{
 "cells": [
  {
   "cell_type": "code",
   "execution_count": 1,
   "metadata": {},
   "outputs": [],
   "source": [
    "import os, time\n",
    "import numpy as np\n",
    "import torch.nn as nn\n",
    "import torch.nn.init as init\n",
    "import torch.nn.functional as F\n",
    "import torch.optim as optim\n",
    "\n",
    "import pickle\n",
    "import torch\n",
    "from arguments import get_args"
   ]
  },
  {
   "cell_type": "code",
   "execution_count": 2,
   "metadata": {},
   "outputs": [],
   "source": [
    "from dataloaders import split_cifar100_rs_5 as dataloader"
   ]
  },
  {
   "cell_type": "code",
   "execution_count": 3,
   "metadata": {},
   "outputs": [
    {
     "name": "stdout",
     "output_type": "stream",
     "text": [
      "Task order = [19, 2, 20, 9, 11, 18, 7, 14, 5, 3, 6, 15, 10, 8, 17, 12, 4, 1, 16, 13]\n",
      "\n",
      "Input size = [3, 32, 32] \n",
      "Task info = [(0, 5), (1, 5), (2, 5), (3, 5), (4, 5), (5, 5), (6, 5), (7, 5), (8, 5), (9, 5), (10, 5), (11, 5), (12, 5), (13, 5), (14, 5), (15, 5), (16, 5), (17, 5), (18, 5), (19, 5)]\n",
      "20\n"
     ]
    }
   ],
   "source": [
    "data, taskcla, inputsize = dataloader.get(seed=0)\n",
    "print('\\nInput size =', inputsize, '\\nTask info =', taskcla)\n",
    "print(len(taskcla))"
   ]
  },
  {
   "cell_type": "code",
   "execution_count": 4,
   "metadata": {},
   "outputs": [
    {
     "name": "stdout",
     "output_type": "stream",
     "text": [
      "<class 'dict'>\n",
      "dict_keys([0, 1, 2, 3, 4, 5, 6, 7, 8, 9, 10, 11, 12, 13, 14, 15, 16, 17, 18, 19, 'ncla'])\n"
     ]
    }
   ],
   "source": [
    "print(type(data))\n",
    "print(data.keys())"
   ]
  },
  {
   "cell_type": "code",
   "execution_count": 5,
   "metadata": {},
   "outputs": [
    {
     "name": "stdout",
     "output_type": "stream",
     "text": [
      "dict_keys(['name', 'ncla', 'train', 'test', 'valid'])\n"
     ]
    }
   ],
   "source": [
    "print(data[0].keys())"
   ]
  },
  {
   "cell_type": "code",
   "execution_count": 15,
   "metadata": {},
   "outputs": [
    {
     "name": "stdout",
     "output_type": "stream",
     "text": [
      "100 5 cifar100-13\n"
     ]
    }
   ],
   "source": [
    "print(data['ncla'], data[0]['ncla'], data[0]['name'])"
   ]
  },
  {
   "cell_type": "code",
   "execution_count": 16,
   "metadata": {},
   "outputs": [
    {
     "name": "stdout",
     "output_type": "stream",
     "text": [
      "cifar100-13\n",
      "cifar100-19\n",
      "cifar100-2\n",
      "cifar100-20\n",
      "cifar100-9\n",
      "cifar100-11\n",
      "cifar100-18\n",
      "cifar100-7\n",
      "cifar100-14\n",
      "cifar100-5\n",
      "cifar100-3\n",
      "cifar100-6\n",
      "cifar100-15\n",
      "cifar100-10\n",
      "cifar100-8\n",
      "cifar100-17\n",
      "cifar100-12\n",
      "cifar100-4\n",
      "cifar100-1\n",
      "cifar100-16\n"
     ]
    }
   ],
   "source": [
    "for i in range(len(taskcla)):\n",
    "    print(data[i]['name'])"
   ]
  },
  {
   "cell_type": "code",
   "execution_count": 7,
   "metadata": {},
   "outputs": [
    {
     "name": "stdout",
     "output_type": "stream",
     "text": [
      "dict_keys(['x', 'y'])\n"
     ]
    }
   ],
   "source": [
    "print(data[0]['train'].keys())"
   ]
  },
  {
   "cell_type": "code",
   "execution_count": 8,
   "metadata": {},
   "outputs": [
    {
     "name": "stdout",
     "output_type": "stream",
     "text": [
      "<class 'torch.Tensor'> <class 'torch.Tensor'>\n"
     ]
    }
   ],
   "source": [
    "print(type(data[0]['train']['x']), type(data[0]['train']['y']))"
   ]
  },
  {
   "cell_type": "code",
   "execution_count": 9,
   "metadata": {},
   "outputs": [
    {
     "name": "stdout",
     "output_type": "stream",
     "text": [
      "torch.Size([2250, 3, 32, 32])\n",
      "torch.Size([2250])\n"
     ]
    }
   ],
   "source": [
    "print(data[0]['train']['x'].size())\n",
    "print(data[0]['train']['y'].size())"
   ]
  },
  {
   "cell_type": "code",
   "execution_count": 10,
   "metadata": {},
   "outputs": [
    {
     "data": {
      "text/plain": [
       "array([0, 1, 2, 3, 4])"
      ]
     },
     "execution_count": 10,
     "metadata": {},
     "output_type": "execute_result"
    }
   ],
   "source": [
    "np.unique(data[0]['train']['y'].numpy())"
   ]
  },
  {
   "cell_type": "code",
   "execution_count": 11,
   "metadata": {},
   "outputs": [],
   "source": [
    "from networks import conv_net_coscl as network"
   ]
  },
  {
   "cell_type": "code",
   "execution_count": 12,
   "metadata": {},
   "outputs": [],
   "source": [
    "net = network.Net(inputsize, taskcla, use_TG=True)"
   ]
  },
  {
   "cell_type": "code",
   "execution_count": 13,
   "metadata": {},
   "outputs": [],
   "source": [
    "def count_param(M):\n",
    "    for i, (name, model) in enumerate(M.named_children()):\n",
    "        trainable_num, total_num = get_parameter_number(model)\n",
    "        print(f\"\\t>> {i}: {name} \\t {trainable_num/1e6:.2f}M / {total_num/1e6:.2f}M\")\n",
    "    trainable_num, total_num = get_parameter_number(M)\n",
    "    print(f\">> # of params in total: {trainable_num/1e6:.2f}M / {total_num/1e6:.2f}M\")\n",
    "\n",
    "\n",
    "def get_parameter_number(net):\n",
    "    trainable_num  = sum(p.numel() for p in net.parameters() if p.requires_grad)\n",
    "    total_num = sum(p.numel() for p in net.parameters())\n",
    "    return trainable_num, total_num"
   ]
  },
  {
   "cell_type": "code",
   "execution_count": 14,
   "metadata": {},
   "outputs": [
    {
     "name": "stdout",
     "output_type": "stream",
     "text": [
      "\t>> 0: last \t 0.03M / 0.03M\n",
      "\t>> 1: net1 \t 0.02M / 0.02M\n",
      "\t>> 2: fc1 \t 0.13M / 0.13M\n",
      "\t>> 3: efc1 \t 0.01M / 0.01M\n",
      "\t>> 4: net2 \t 0.02M / 0.02M\n",
      "\t>> 5: fc2 \t 0.13M / 0.13M\n",
      "\t>> 6: efc2 \t 0.01M / 0.01M\n",
      "\t>> 7: net3 \t 0.02M / 0.02M\n",
      "\t>> 8: fc3 \t 0.13M / 0.13M\n",
      "\t>> 9: efc3 \t 0.01M / 0.01M\n",
      "\t>> 10: net4 \t 0.02M / 0.02M\n",
      "\t>> 11: fc4 \t 0.13M / 0.13M\n",
      "\t>> 12: efc4 \t 0.01M / 0.01M\n",
      "\t>> 13: net5 \t 0.02M / 0.02M\n",
      "\t>> 14: fc5 \t 0.13M / 0.13M\n",
      "\t>> 15: efc5 \t 0.01M / 0.01M\n",
      "\t>> 16: drop1 \t 0.00M / 0.00M\n",
      "\t>> 17: drop2 \t 0.00M / 0.00M\n",
      "\t>> 18: MaxPool \t 0.00M / 0.00M\n",
      "\t>> 19: relu \t 0.00M / 0.00M\n",
      "\t>> 20: sig_gate \t 0.00M / 0.00M\n",
      ">> # of params in total: 0.80M / 0.80M\n",
      "Net(\n",
      "  (last): ModuleList(\n",
      "    (0): Linear(in_features=256, out_features=5, bias=True)\n",
      "    (1): Linear(in_features=256, out_features=5, bias=True)\n",
      "    (2): Linear(in_features=256, out_features=5, bias=True)\n",
      "    (3): Linear(in_features=256, out_features=5, bias=True)\n",
      "    (4): Linear(in_features=256, out_features=5, bias=True)\n",
      "    (5): Linear(in_features=256, out_features=5, bias=True)\n",
      "    (6): Linear(in_features=256, out_features=5, bias=True)\n",
      "    (7): Linear(in_features=256, out_features=5, bias=True)\n",
      "    (8): Linear(in_features=256, out_features=5, bias=True)\n",
      "    (9): Linear(in_features=256, out_features=5, bias=True)\n",
      "    (10): Linear(in_features=256, out_features=5, bias=True)\n",
      "    (11): Linear(in_features=256, out_features=5, bias=True)\n",
      "    (12): Linear(in_features=256, out_features=5, bias=True)\n",
      "    (13): Linear(in_features=256, out_features=5, bias=True)\n",
      "    (14): Linear(in_features=256, out_features=5, bias=True)\n",
      "    (15): Linear(in_features=256, out_features=5, bias=True)\n",
      "    (16): Linear(in_features=256, out_features=5, bias=True)\n",
      "    (17): Linear(in_features=256, out_features=5, bias=True)\n",
      "    (18): Linear(in_features=256, out_features=5, bias=True)\n",
      "    (19): Linear(in_features=256, out_features=5, bias=True)\n",
      "  )\n",
      "  (net1): Sequential(\n",
      "    (0): Conv2d(3, 8, kernel_size=(3, 3), stride=(1, 1), padding=(1, 1))\n",
      "    (1): ReLU()\n",
      "    (2): Conv2d(8, 8, kernel_size=(3, 3), stride=(1, 1), padding=(1, 1))\n",
      "    (3): ReLU()\n",
      "    (4): MaxPool2d(kernel_size=2, stride=2, padding=0, dilation=1, ceil_mode=False)\n",
      "    (5): Dropout(p=0.25, inplace=False)\n",
      "    (6): Conv2d(8, 16, kernel_size=(3, 3), stride=(1, 1), padding=(1, 1))\n",
      "    (7): ReLU()\n",
      "    (8): Conv2d(16, 16, kernel_size=(3, 3), stride=(1, 1), padding=(1, 1))\n",
      "    (9): ReLU()\n",
      "    (10): MaxPool2d(kernel_size=2, stride=2, padding=0, dilation=1, ceil_mode=False)\n",
      "    (11): Dropout(p=0.25, inplace=False)\n",
      "    (12): Conv2d(16, 32, kernel_size=(3, 3), stride=(1, 1), padding=(1, 1))\n",
      "    (13): ReLU()\n",
      "    (14): Conv2d(32, 32, kernel_size=(3, 3), stride=(1, 1), padding=(1, 1))\n",
      "    (15): ReLU()\n",
      "    (16): MaxPool2d(kernel_size=2, stride=2, padding=0, dilation=1, ceil_mode=False)\n",
      "    (17): Dropout(p=0.25, inplace=False)\n",
      "  )\n",
      "  (fc1): Linear(in_features=512, out_features=256, bias=True)\n",
      "  (efc1): Embedding(20, 256)\n",
      "  (net2): Sequential(\n",
      "    (0): Conv2d(3, 8, kernel_size=(3, 3), stride=(1, 1), padding=(1, 1))\n",
      "    (1): ReLU()\n",
      "    (2): Conv2d(8, 8, kernel_size=(3, 3), stride=(1, 1), padding=(1, 1))\n",
      "    (3): ReLU()\n",
      "    (4): MaxPool2d(kernel_size=2, stride=2, padding=0, dilation=1, ceil_mode=False)\n",
      "    (5): Dropout(p=0.25, inplace=False)\n",
      "    (6): Conv2d(8, 16, kernel_size=(3, 3), stride=(1, 1), padding=(1, 1))\n",
      "    (7): ReLU()\n",
      "    (8): Conv2d(16, 16, kernel_size=(3, 3), stride=(1, 1), padding=(1, 1))\n",
      "    (9): ReLU()\n",
      "    (10): MaxPool2d(kernel_size=2, stride=2, padding=0, dilation=1, ceil_mode=False)\n",
      "    (11): Dropout(p=0.25, inplace=False)\n",
      "    (12): Conv2d(16, 32, kernel_size=(3, 3), stride=(1, 1), padding=(1, 1))\n",
      "    (13): ReLU()\n",
      "    (14): Conv2d(32, 32, kernel_size=(3, 3), stride=(1, 1), padding=(1, 1))\n",
      "    (15): ReLU()\n",
      "    (16): MaxPool2d(kernel_size=2, stride=2, padding=0, dilation=1, ceil_mode=False)\n",
      "    (17): Dropout(p=0.25, inplace=False)\n",
      "  )\n",
      "  (fc2): Linear(in_features=512, out_features=256, bias=True)\n",
      "  (efc2): Embedding(20, 256)\n",
      "  (net3): Sequential(\n",
      "    (0): Conv2d(3, 8, kernel_size=(3, 3), stride=(1, 1), padding=(1, 1))\n",
      "    (1): ReLU()\n",
      "    (2): Conv2d(8, 8, kernel_size=(3, 3), stride=(1, 1), padding=(1, 1))\n",
      "    (3): ReLU()\n",
      "    (4): MaxPool2d(kernel_size=2, stride=2, padding=0, dilation=1, ceil_mode=False)\n",
      "    (5): Dropout(p=0.25, inplace=False)\n",
      "    (6): Conv2d(8, 16, kernel_size=(3, 3), stride=(1, 1), padding=(1, 1))\n",
      "    (7): ReLU()\n",
      "    (8): Conv2d(16, 16, kernel_size=(3, 3), stride=(1, 1), padding=(1, 1))\n",
      "    (9): ReLU()\n",
      "    (10): MaxPool2d(kernel_size=2, stride=2, padding=0, dilation=1, ceil_mode=False)\n",
      "    (11): Dropout(p=0.25, inplace=False)\n",
      "    (12): Conv2d(16, 32, kernel_size=(3, 3), stride=(1, 1), padding=(1, 1))\n",
      "    (13): ReLU()\n",
      "    (14): Conv2d(32, 32, kernel_size=(3, 3), stride=(1, 1), padding=(1, 1))\n",
      "    (15): ReLU()\n",
      "    (16): MaxPool2d(kernel_size=2, stride=2, padding=0, dilation=1, ceil_mode=False)\n",
      "    (17): Dropout(p=0.25, inplace=False)\n",
      "  )\n",
      "  (fc3): Linear(in_features=512, out_features=256, bias=True)\n",
      "  (efc3): Embedding(20, 256)\n",
      "  (net4): Sequential(\n",
      "    (0): Conv2d(3, 8, kernel_size=(3, 3), stride=(1, 1), padding=(1, 1))\n",
      "    (1): ReLU()\n",
      "    (2): Conv2d(8, 8, kernel_size=(3, 3), stride=(1, 1), padding=(1, 1))\n",
      "    (3): ReLU()\n",
      "    (4): MaxPool2d(kernel_size=2, stride=2, padding=0, dilation=1, ceil_mode=False)\n",
      "    (5): Dropout(p=0.25, inplace=False)\n",
      "    (6): Conv2d(8, 16, kernel_size=(3, 3), stride=(1, 1), padding=(1, 1))\n",
      "    (7): ReLU()\n",
      "    (8): Conv2d(16, 16, kernel_size=(3, 3), stride=(1, 1), padding=(1, 1))\n",
      "    (9): ReLU()\n",
      "    (10): MaxPool2d(kernel_size=2, stride=2, padding=0, dilation=1, ceil_mode=False)\n",
      "    (11): Dropout(p=0.25, inplace=False)\n",
      "    (12): Conv2d(16, 32, kernel_size=(3, 3), stride=(1, 1), padding=(1, 1))\n",
      "    (13): ReLU()\n",
      "    (14): Conv2d(32, 32, kernel_size=(3, 3), stride=(1, 1), padding=(1, 1))\n",
      "    (15): ReLU()\n",
      "    (16): MaxPool2d(kernel_size=2, stride=2, padding=0, dilation=1, ceil_mode=False)\n",
      "    (17): Dropout(p=0.25, inplace=False)\n",
      "  )\n",
      "  (fc4): Linear(in_features=512, out_features=256, bias=True)\n",
      "  (efc4): Embedding(20, 256)\n",
      "  (net5): Sequential(\n",
      "    (0): Conv2d(3, 8, kernel_size=(3, 3), stride=(1, 1), padding=(1, 1))\n",
      "    (1): ReLU()\n",
      "    (2): Conv2d(8, 8, kernel_size=(3, 3), stride=(1, 1), padding=(1, 1))\n",
      "    (3): ReLU()\n",
      "    (4): MaxPool2d(kernel_size=2, stride=2, padding=0, dilation=1, ceil_mode=False)\n",
      "    (5): Dropout(p=0.25, inplace=False)\n",
      "    (6): Conv2d(8, 16, kernel_size=(3, 3), stride=(1, 1), padding=(1, 1))\n",
      "    (7): ReLU()\n",
      "    (8): Conv2d(16, 16, kernel_size=(3, 3), stride=(1, 1), padding=(1, 1))\n",
      "    (9): ReLU()\n",
      "    (10): MaxPool2d(kernel_size=2, stride=2, padding=0, dilation=1, ceil_mode=False)\n",
      "    (11): Dropout(p=0.25, inplace=False)\n",
      "    (12): Conv2d(16, 32, kernel_size=(3, 3), stride=(1, 1), padding=(1, 1))\n",
      "    (13): ReLU()\n",
      "    (14): Conv2d(32, 32, kernel_size=(3, 3), stride=(1, 1), padding=(1, 1))\n",
      "    (15): ReLU()\n",
      "    (16): MaxPool2d(kernel_size=2, stride=2, padding=0, dilation=1, ceil_mode=False)\n",
      "    (17): Dropout(p=0.25, inplace=False)\n",
      "  )\n",
      "  (fc5): Linear(in_features=512, out_features=256, bias=True)\n",
      "  (efc5): Embedding(20, 256)\n",
      "  (drop1): Dropout(p=0.25, inplace=False)\n",
      "  (drop2): Dropout(p=0.5, inplace=False)\n",
      "  (MaxPool): MaxPool2d(kernel_size=2, stride=2, padding=0, dilation=1, ceil_mode=False)\n",
      "  (relu): ReLU()\n",
      "  (sig_gate): Sigmoid()\n",
      ")\n"
     ]
    }
   ],
   "source": [
    "count_param(net)\n",
    "print(net)"
   ]
  },
  {
   "cell_type": "code",
   "execution_count": 19,
   "metadata": {},
   "outputs": [],
   "source": [
    "task = torch.autograd.Variable(torch.LongTensor([1]))\n",
    "mask = net.mask(task)"
   ]
  },
  {
   "cell_type": "code",
   "execution_count": 21,
   "metadata": {},
   "outputs": [
    {
     "name": "stdout",
     "output_type": "stream",
     "text": [
      "torch.Size([1])\n",
      "torch.Size([1, 256])\n"
     ]
    }
   ],
   "source": [
    "print(task.size())\n",
    "print(mask[0].size())"
   ]
  },
  {
   "cell_type": "code",
   "execution_count": 22,
   "metadata": {},
   "outputs": [],
   "source": [
    "emb = torch.nn.Embedding(10, 200)"
   ]
  },
  {
   "cell_type": "code",
   "execution_count": 25,
   "metadata": {},
   "outputs": [
    {
     "data": {
      "text/plain": [
       "torch.Size([1, 200])"
      ]
     },
     "execution_count": 25,
     "metadata": {},
     "output_type": "execute_result"
    }
   ],
   "source": [
    "emb(torch.autograd.Variable(torch.LongTensor([0]))).size()"
   ]
  },
  {
   "cell_type": "code",
   "execution_count": 26,
   "metadata": {},
   "outputs": [
    {
     "data": {
      "text/plain": [
       "torch.Size([1, 200])"
      ]
     },
     "execution_count": 26,
     "metadata": {},
     "output_type": "execute_result"
    }
   ],
   "source": [
    "emb(torch.autograd.Variable(torch.LongTensor([9]))).size()"
   ]
  }
 ],
 "metadata": {
  "kernelspec": {
   "display_name": "nn",
   "language": "python",
   "name": "python3"
  },
  "language_info": {
   "codemirror_mode": {
    "name": "ipython",
    "version": 3
   },
   "file_extension": ".py",
   "mimetype": "text/x-python",
   "name": "python",
   "nbconvert_exporter": "python",
   "pygments_lexer": "ipython3",
   "version": "3.7.12"
  },
  "orig_nbformat": 4
 },
 "nbformat": 4,
 "nbformat_minor": 2
}
